{
 "cells": [
  {
   "cell_type": "code",
   "execution_count": 4,
   "id": "2d6bca12",
   "metadata": {},
   "outputs": [
    {
     "name": "stdout",
     "output_type": "stream",
     "text": [
      "1 1 3500\n",
      "2 1 3500\n",
      "3 1 3500\n",
      "4 0 1400\n",
      "5 0 1900\n",
      "6 1 3500\n",
      "7 0 2400\n",
      "8 0 2900\n",
      "9 1 3500\n",
      "10 1 3500\n"
     ]
    }
   ],
   "source": [
    "import gspread\n",
    "import numpy as np\n",
    "gc = gspread.service_account(filename='da-in-gamedev-lab2-403203-2f9ff29797c9.json')\n",
    "sh = gc.open(\"DA-in-GameDev-lab2\")\n",
    "\n",
    "money_for_win = 3500\n",
    "money_for_first_loss = 1400\n",
    "money_for_second_loss = 1900\n",
    "money_for_third_loss = 2400\n",
    "money_for_fourth_loss = 2900\n",
    "money_for_fifth_or_more_loss = 3400\n",
    "\n",
    "loss_count = 0\n",
    "rounds_result = np.random.randint(0, 2, 11)\n",
    "i = 0\n",
    "while i < len(rounds_result) - 1:\n",
    "    i += 1\n",
    "    if i == 0:\n",
    "        continue\n",
    "    else:\n",
    "        money = 0\n",
    "        if rounds_result[i] == 1:\n",
    "            money = money_for_win\n",
    "            lose_count = 0\n",
    "        elif rounds_result[i] == 0:\n",
    "            loss_count += 1\n",
    "            if loss_count == 1 and i != 1:\n",
    "                money = money_for_first_loss\n",
    "            elif loss_count == 2 or i == 1:\n",
    "                money = money_for_second_loss\n",
    "            elif loss_count == 3:\n",
    "                money = money_for_third_loss\n",
    "            elif loss_count == 4:\n",
    "                money = money_for_fourth_loss\n",
    "            elif loss_count >= 5:\n",
    "                money = money_for_fifth_or_more_loss\n",
    "        \n",
    "        sh.sheet1.update(('A' + str(i)), str(i))\n",
    "        sh.sheet1.update(('B' + str(i)), str(money))\n",
    "        print(i, rounds_result[i], money)"
   ]
  },
  {
   "cell_type": "code",
   "execution_count": null,
   "id": "5f5c3622",
   "metadata": {},
   "outputs": [],
   "source": []
  },
  {
   "cell_type": "code",
   "execution_count": null,
   "id": "2ff701d8",
   "metadata": {},
   "outputs": [],
   "source": []
  }
 ],
 "metadata": {
  "kernelspec": {
   "display_name": "Python 3 (ipykernel)",
   "language": "python",
   "name": "python3"
  },
  "language_info": {
   "codemirror_mode": {
    "name": "ipython",
    "version": 3
   },
   "file_extension": ".py",
   "mimetype": "text/x-python",
   "name": "python",
   "nbconvert_exporter": "python",
   "pygments_lexer": "ipython3",
   "version": "3.11.4"
  }
 },
 "nbformat": 4,
 "nbformat_minor": 5
}
